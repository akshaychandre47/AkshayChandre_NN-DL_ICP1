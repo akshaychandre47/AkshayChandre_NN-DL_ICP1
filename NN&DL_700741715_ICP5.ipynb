{
  "nbformat": 4,
  "nbformat_minor": 0,
  "metadata": {
    "colab": {
      "provenance": []
    },
    "kernelspec": {
      "name": "python3",
      "display_name": "Python 3"
    },
    "language_info": {
      "name": "python"
    }
  },
  "cells": [
    {
      "cell_type": "code",
      "execution_count": 1,
      "metadata": {
        "colab": {
          "base_uri": "https://localhost:8080/"
        },
        "id": "tlc9_ebRqthh",
        "outputId": "368554d7-0610-4a25-a8be-064ad495c774"
      },
      "outputs": [
        {
          "output_type": "stream",
          "name": "stdout",
          "text": [
            "Mounted at /content/gdrive\n"
          ]
        },
        {
          "output_type": "stream",
          "name": "stderr",
          "text": [
            "<ipython-input-1-36a628f82c21>:24: SettingWithCopyWarning: \n",
            "A value is trying to be set on a copy of a slice from a DataFrame.\n",
            "Try using .loc[row_indexer,col_indexer] = value instead\n",
            "\n",
            "See the caveats in the documentation: https://pandas.pydata.org/pandas-docs/stable/user_guide/indexing.html#returning-a-view-versus-a-copy\n",
            "  data['text'] = data['text'].apply(lambda x: x.lower())\n",
            "<ipython-input-1-36a628f82c21>:25: SettingWithCopyWarning: \n",
            "A value is trying to be set on a copy of a slice from a DataFrame.\n",
            "Try using .loc[row_indexer,col_indexer] = value instead\n",
            "\n",
            "See the caveats in the documentation: https://pandas.pydata.org/pandas-docs/stable/user_guide/indexing.html#returning-a-view-versus-a-copy\n",
            "  data['text'] = data['text'].apply((lambda x: re.sub('[^a-zA-z0-9\\s]', '', x)))\n"
          ]
        },
        {
          "output_type": "stream",
          "name": "stdout",
          "text": [
            "291/291 - 56s - loss: 0.8282 - accuracy: 0.6445 - 56s/epoch - 192ms/step\n",
            "144/144 - 5s - loss: 0.7510 - accuracy: 0.6654 - 5s/epoch - 37ms/step\n",
            "0.7509526014328003\n",
            "0.6653560400009155\n",
            "['loss', 'accuracy']\n"
          ]
        }
      ],
      "source": [
        "import pandas as pd\n",
        "import numpy as np\n",
        "import matplotlib.pyplot as plt\n",
        "import re\n",
        "from sklearn.model_selection import train_test_split\n",
        "from sklearn.preprocessing import LabelEncoder\n",
        "from keras.preprocessing.text import Tokenizer\n",
        "from tensorflow.keras.preprocessing.sequence import pad_sequences\n",
        "from keras.models import Sequential\n",
        "from keras.layers import Dense, Embedding, LSTM, SpatialDropout1D\n",
        "from keras.utils.np_utils import to_categorical\n",
        "\n",
        "from google.colab import drive\n",
        "drive.mount('/content/gdrive')\n",
        "\n",
        "# Load the dataset as a Pandas DataFrame\n",
        "dataset = pd.read_csv('/content/gdrive/My Drive/Sentiment.csv')\n",
        "\n",
        "# Select only the necessary columns 'text' and 'sentiment'\n",
        "mask = dataset.columns.isin(['text', 'sentiment'])\n",
        "data = dataset.loc[:, mask]\n",
        "\n",
        "# Keeping only the necessary columns\n",
        "data['text'] = data['text'].apply(lambda x: x.lower())\n",
        "data['text'] = data['text'].apply((lambda x: re.sub('[^a-zA-z0-9\\s]', '', x)))\n",
        "\n",
        "for idx, row in data.iterrows():\n",
        "    row[0] = row[0].replace('rt', ' ') #Removing Retweets\n",
        "    max_fatures = 2000\n",
        "tokenizer = Tokenizer(num_words=max_fatures, split=' ') #Maximum words is 2000 to tokenize sentence\n",
        "tokenizer.fit_on_texts(data['text'].values)\n",
        "X = tokenizer.texts_to_sequences(data['text'].values) #taking values to feature matrix\n",
        "X = pad_sequences(X) #Padding the feature matrix\n",
        "\n",
        "embed_dim = 128 #Dimension of the Embedded layer\n",
        "lstm_out = 196 #Long short-term memory (LSTM) layer neurons\n",
        "def createmodel():\n",
        "    model = Sequential() #Sequential Neural Network\n",
        "    model.add(Embedding(max_fatures, embed_dim,input_length = X.shape[1])) #input dimension 2000 Neurons, output dimension 128 Neurons\n",
        "    model.add(LSTM(lstm_out, dropout=0.2, recurrent_dropout=0.2)) #Drop out 20%, 196 output Neurons, recurrent dropout 20%\n",
        "    model.add(Dense(3,activation='softmax')) #3 output neurons[positive, Neutral, Negative], softmax as activation\n",
        "    model.compile(loss = 'categorical_crossentropy', optimizer='adam',metrics = ['accuracy']) #Compiling the model\n",
        "    return model\n",
        "# print(model.summary())\n",
        "labelencoder = LabelEncoder() #Applying label Encoding on the label matrix\n",
        "integer_encoded = labelencoder.fit_transform(data['sentiment']) #fitting the model\n",
        "y = to_categorical(integer_encoded)\n",
        "X_train, X_test, Y_train, Y_test = train_test_split(X,y, test_size = 0.33, random_state = 42) #67% training data, 33% test data split\n",
        "batch_size = 32 #Batch size 32\n",
        "model = createmodel() #Function call to Sequential Neural Network\n",
        "model.fit(X_train, Y_train, epochs = 1, batch_size=batch_size, verbose = 2) #verbose the higher, the more messages\n",
        "score,acc = model.evaluate(X_test,Y_test,verbose=2,batch_size=batch_size) #evaluating the model\n",
        "print(score)\n",
        "print(acc)\n",
        "\n",
        "print(model.metrics_names) #metrics of the model"
      ]
    },
    {
      "cell_type": "code",
      "source": [
        "model.save('sentimentAnalysis.h5') #Saving the model\n",
        "\n",
        "from keras.models import load_model #Importing the package for importing the saved model\n",
        "model= load_model('sentimentAnalysis.h5') #loading the saved model\n",
        "\n",
        "print(integer_encoded)\n",
        "print(data['sentiment'])"
      ],
      "metadata": {
        "colab": {
          "base_uri": "https://localhost:8080/"
        },
        "id": "RHbHJRg2yiOM",
        "outputId": "0326af8e-ac66-4371-8f23-a4ca9905c57c"
      },
      "execution_count": 2,
      "outputs": [
        {
          "output_type": "stream",
          "name": "stdout",
          "text": [
            "[1 2 1 ... 2 0 2]\n",
            "0         Neutral\n",
            "1        Positive\n",
            "2         Neutral\n",
            "3        Positive\n",
            "4        Positive\n",
            "           ...   \n",
            "13866    Negative\n",
            "13867    Positive\n",
            "13868    Positive\n",
            "13869    Negative\n",
            "13870    Positive\n",
            "Name: sentiment, Length: 13871, dtype: object\n"
          ]
        }
      ]
    },
    {
      "cell_type": "code",
      "source": [
        "# Predicting on the text data\n",
        "sentence = ['A lot of good things are happening. We are respected again throughout the world, and that is a great thing.@realDonaldTrump']\n",
        "sentence = tokenizer.texts_to_sequences(sentence) # Tokenizing the sentence\n",
        "sentence = pad_sequences(sentence, maxlen=28, dtype='int32', value=0) # Padding the sentence\n",
        "sentiment_probs = model.predict(sentence, batch_size=1, verbose=2)[0] # Predicting the sentence text\n",
        "sentiment = np.argmax(sentiment_probs)\n",
        "\n",
        "print(sentiment_probs)\n",
        "if sentiment == 0:\n",
        "    print(\"Neutral\")\n",
        "elif sentiment < 0:\n",
        "    print(\"Negative\")\n",
        "elif sentiment > 0:\n",
        "    print(\"Positive\")\n",
        "else:\n",
        "    print(\"Cannot be determined\")\n"
      ],
      "metadata": {
        "colab": {
          "base_uri": "https://localhost:8080/"
        },
        "id": "2zdqUZXWy185",
        "outputId": "3f5adebe-3a4c-45c7-a713-f399efc8741c"
      },
      "execution_count": 3,
      "outputs": [
        {
          "output_type": "stream",
          "name": "stdout",
          "text": [
            "1/1 - 1s - 772ms/epoch - 772ms/step\n",
            "[0.54533744 0.11012135 0.34454125]\n",
            "Neutral\n"
          ]
        }
      ]
    },
    {
      "cell_type": "code",
      "source": [
        "from keras.wrappers.scikit_learn import KerasClassifier #importing Keras classifier\n",
        "from sklearn.model_selection import GridSearchCV #importing Grid search CV\n",
        "\n",
        "model = KerasClassifier(build_fn=createmodel,verbose=2) #initiating model to test performance by applying multiple hyper parameters\n",
        "batch_size= [10, 20, 40] #hyper parameter batch_size\n",
        "epochs = [1, 2] #hyper parameter no. of epochs\n",
        "param_grid= {'batch_size':batch_size, 'epochs':epochs} #creating dictionary for batch size, no. of epochs\n",
        "grid  = GridSearchCV(estimator=model, param_grid=param_grid) #Applying dictionary with hyper parameters\n",
        "grid_result= grid.fit(X_train,Y_train) #Fitting the model\n",
        "# summarize results\n",
        "print(\"Best: %f using %s\" % (grid_result.best_score_, grid_result.best_params_)) #best score, best hyper parameters"
      ],
      "metadata": {
        "colab": {
          "base_uri": "https://localhost:8080/"
        },
        "id": "FAdVJBc4y9qP",
        "outputId": "32a7899c-6d34-4103-d46f-c373e436c970"
      },
      "execution_count": 4,
      "outputs": [
        {
          "metadata": {
            "tags": null
          },
          "name": "stderr",
          "output_type": "stream",
          "text": [
            "<ipython-input-4-6c99b49150f4>:4: DeprecationWarning: KerasClassifier is deprecated, use Sci-Keras (https://github.com/adriangb/scikeras) instead. See https://www.adriangb.com/scikeras/stable/migration.html for help migrating.\n",
            "  model = KerasClassifier(build_fn=createmodel,verbose=2) #initiating model to test performance by applying multiple hyper parameters\n"
          ]
        },
        {
          "output_type": "stream",
          "name": "stdout",
          "text": [
            "744/744 - 115s - loss: 0.8284 - accuracy: 0.6422 - 115s/epoch - 154ms/step\n",
            "186/186 - 3s - loss: 0.8004 - accuracy: 0.6579 - 3s/epoch - 15ms/step\n",
            "744/744 - 113s - loss: 0.8320 - accuracy: 0.6474 - 113s/epoch - 152ms/step\n",
            "186/186 - 3s - loss: 0.7761 - accuracy: 0.6659 - 3s/epoch - 15ms/step\n",
            "744/744 - 111s - loss: 0.8214 - accuracy: 0.6473 - 111s/epoch - 149ms/step\n",
            "186/186 - 3s - loss: 0.7611 - accuracy: 0.6724 - 3s/epoch - 15ms/step\n",
            "744/744 - 109s - loss: 0.8262 - accuracy: 0.6441 - 109s/epoch - 147ms/step\n",
            "186/186 - 3s - loss: 0.7968 - accuracy: 0.6442 - 3s/epoch - 18ms/step\n",
            "744/744 - 113s - loss: 0.8156 - accuracy: 0.6502 - 113s/epoch - 152ms/step\n",
            "186/186 - 3s - loss: 0.7791 - accuracy: 0.6475 - 3s/epoch - 15ms/step\n",
            "Epoch 1/2\n",
            "744/744 - 113s - loss: 0.8216 - accuracy: 0.6447 - 113s/epoch - 152ms/step\n",
            "Epoch 2/2\n",
            "744/744 - 109s - loss: 0.6797 - accuracy: 0.7120 - 109s/epoch - 146ms/step\n",
            "186/186 - 3s - loss: 0.7374 - accuracy: 0.6810 - 3s/epoch - 15ms/step\n",
            "Epoch 1/2\n",
            "744/744 - 110s - loss: 0.8222 - accuracy: 0.6496 - 110s/epoch - 147ms/step\n",
            "Epoch 2/2\n",
            "744/744 - 108s - loss: 0.6766 - accuracy: 0.7129 - 108s/epoch - 146ms/step\n",
            "186/186 - 3s - loss: 0.7635 - accuracy: 0.6869 - 3s/epoch - 15ms/step\n",
            "Epoch 1/2\n",
            "744/744 - 111s - loss: 0.8246 - accuracy: 0.6430 - 111s/epoch - 150ms/step\n",
            "Epoch 2/2\n",
            "744/744 - 107s - loss: 0.6750 - accuracy: 0.7133 - 107s/epoch - 144ms/step\n",
            "186/186 - 3s - loss: 0.7594 - accuracy: 0.6805 - 3s/epoch - 15ms/step\n",
            "Epoch 1/2\n",
            "744/744 - 114s - loss: 0.8291 - accuracy: 0.6421 - 114s/epoch - 154ms/step\n",
            "Epoch 2/2\n",
            "744/744 - 108s - loss: 0.6747 - accuracy: 0.7181 - 108s/epoch - 146ms/step\n",
            "186/186 - 3s - loss: 0.7594 - accuracy: 0.6781 - 3s/epoch - 16ms/step\n",
            "Epoch 1/2\n",
            "744/744 - 112s - loss: 0.8177 - accuracy: 0.6488 - 112s/epoch - 150ms/step\n",
            "Epoch 2/2\n",
            "744/744 - 108s - loss: 0.6691 - accuracy: 0.7167 - 108s/epoch - 145ms/step\n",
            "186/186 - 4s - loss: 0.7811 - accuracy: 0.6609 - 4s/epoch - 21ms/step\n",
            "372/372 - 63s - loss: 0.8310 - accuracy: 0.6450 - 63s/epoch - 168ms/step\n",
            "93/93 - 2s - loss: 0.7461 - accuracy: 0.6719 - 2s/epoch - 20ms/step\n",
            "372/372 - 68s - loss: 0.8326 - accuracy: 0.6404 - 68s/epoch - 182ms/step\n",
            "93/93 - 2s - loss: 0.7651 - accuracy: 0.6654 - 2s/epoch - 22ms/step\n",
            "372/372 - 62s - loss: 0.8301 - accuracy: 0.6383 - 62s/epoch - 167ms/step\n",
            "93/93 - 4s - loss: 0.7615 - accuracy: 0.6869 - 4s/epoch - 38ms/step\n",
            "372/372 - 61s - loss: 0.8370 - accuracy: 0.6417 - 61s/epoch - 165ms/step\n",
            "93/93 - 2s - loss: 0.7562 - accuracy: 0.6781 - 2s/epoch - 21ms/step\n",
            "372/372 - 67s - loss: 0.8289 - accuracy: 0.6401 - 67s/epoch - 181ms/step\n",
            "93/93 - 3s - loss: 0.7591 - accuracy: 0.6765 - 3s/epoch - 37ms/step\n",
            "Epoch 1/2\n",
            "372/372 - 63s - loss: 0.8303 - accuracy: 0.6460 - 63s/epoch - 168ms/step\n",
            "Epoch 2/2\n",
            "372/372 - 58s - loss: 0.6820 - accuracy: 0.7128 - 58s/epoch - 157ms/step\n",
            "93/93 - 2s - loss: 0.7383 - accuracy: 0.6815 - 2s/epoch - 21ms/step\n",
            "Epoch 1/2\n",
            "372/372 - 64s - loss: 0.8270 - accuracy: 0.6445 - 64s/epoch - 171ms/step\n",
            "Epoch 2/2\n",
            "372/372 - 59s - loss: 0.6791 - accuracy: 0.7151 - 59s/epoch - 159ms/step\n",
            "93/93 - 2s - loss: 0.7263 - accuracy: 0.6859 - 2s/epoch - 21ms/step\n",
            "Epoch 1/2\n",
            "372/372 - 67s - loss: 0.8324 - accuracy: 0.6406 - 67s/epoch - 179ms/step\n",
            "Epoch 2/2\n",
            "372/372 - 61s - loss: 0.6815 - accuracy: 0.7128 - 61s/epoch - 163ms/step\n",
            "93/93 - 2s - loss: 0.7611 - accuracy: 0.6885 - 2s/epoch - 22ms/step\n",
            "Epoch 1/2\n",
            "372/372 - 62s - loss: 0.8342 - accuracy: 0.6451 - 62s/epoch - 167ms/step\n",
            "Epoch 2/2\n",
            "372/372 - 61s - loss: 0.6782 - accuracy: 0.7107 - 61s/epoch - 164ms/step\n",
            "93/93 - 2s - loss: 0.7381 - accuracy: 0.6905 - 2s/epoch - 23ms/step\n",
            "Epoch 1/2\n",
            "372/372 - 62s - loss: 0.8247 - accuracy: 0.6465 - 62s/epoch - 166ms/step\n",
            "Epoch 2/2\n",
            "372/372 - 57s - loss: 0.6699 - accuracy: 0.7095 - 57s/epoch - 152ms/step\n",
            "93/93 - 2s - loss: 0.7824 - accuracy: 0.6701 - 2s/epoch - 22ms/step\n",
            "186/186 - 38s - loss: 0.8471 - accuracy: 0.6333 - 38s/epoch - 205ms/step\n",
            "47/47 - 1s - loss: 0.7689 - accuracy: 0.6600 - 1s/epoch - 29ms/step\n",
            "186/186 - 41s - loss: 0.8444 - accuracy: 0.6367 - 41s/epoch - 218ms/step\n",
            "47/47 - 1s - loss: 0.8005 - accuracy: 0.6503 - 1s/epoch - 30ms/step\n",
            "186/186 - 40s - loss: 0.8448 - accuracy: 0.6317 - 40s/epoch - 214ms/step\n",
            "47/47 - 2s - loss: 0.7652 - accuracy: 0.6627 - 2s/epoch - 41ms/step\n",
            "186/186 - 39s - loss: 0.8515 - accuracy: 0.6347 - 39s/epoch - 207ms/step\n",
            "47/47 - 1s - loss: 0.7796 - accuracy: 0.6685 - 1s/epoch - 30ms/step\n",
            "186/186 - 39s - loss: 0.8376 - accuracy: 0.6344 - 39s/epoch - 210ms/step\n",
            "47/47 - 1s - loss: 0.7759 - accuracy: 0.6625 - 1s/epoch - 30ms/step\n",
            "Epoch 1/2\n",
            "186/186 - 39s - loss: 0.8479 - accuracy: 0.6313 - 39s/epoch - 208ms/step\n",
            "Epoch 2/2\n",
            "186/186 - 34s - loss: 0.7002 - accuracy: 0.6979 - 34s/epoch - 185ms/step\n",
            "47/47 - 2s - loss: 0.7473 - accuracy: 0.6676 - 2s/epoch - 38ms/step\n",
            "Epoch 1/2\n",
            "186/186 - 37s - loss: 0.8493 - accuracy: 0.6377 - 37s/epoch - 198ms/step\n",
            "Epoch 2/2\n",
            "186/186 - 33s - loss: 0.6921 - accuracy: 0.7055 - 33s/epoch - 178ms/step\n",
            "47/47 - 1s - loss: 0.7518 - accuracy: 0.6719 - 1s/epoch - 28ms/step\n",
            "Epoch 1/2\n",
            "186/186 - 39s - loss: 0.8472 - accuracy: 0.6312 - 39s/epoch - 212ms/step\n",
            "Epoch 2/2\n",
            "186/186 - 36s - loss: 0.6842 - accuracy: 0.7136 - 36s/epoch - 194ms/step\n",
            "47/47 - 1s - loss: 0.7526 - accuracy: 0.6794 - 1s/epoch - 29ms/step\n",
            "Epoch 1/2\n",
            "186/186 - 40s - loss: 0.8464 - accuracy: 0.6356 - 40s/epoch - 213ms/step\n",
            "Epoch 2/2\n",
            "186/186 - 36s - loss: 0.6821 - accuracy: 0.7049 - 36s/epoch - 193ms/step\n",
            "47/47 - 2s - loss: 0.7450 - accuracy: 0.6851 - 2s/epoch - 43ms/step\n",
            "Epoch 1/2\n",
            "186/186 - 36s - loss: 0.8412 - accuracy: 0.6367 - 36s/epoch - 195ms/step\n",
            "Epoch 2/2\n",
            "186/186 - 34s - loss: 0.6788 - accuracy: 0.7104 - 34s/epoch - 185ms/step\n",
            "47/47 - 1s - loss: 0.7655 - accuracy: 0.6744 - 1s/epoch - 30ms/step\n",
            "Epoch 1/2\n",
            "465/465 - 78s - loss: 0.8193 - accuracy: 0.6518 - 78s/epoch - 167ms/step\n",
            "Epoch 2/2\n",
            "465/465 - 73s - loss: 0.6726 - accuracy: 0.7115 - 73s/epoch - 157ms/step\n",
            "Best: 0.683309 using {'batch_size': 20, 'epochs': 2}\n"
          ]
        }
      ]
    }
  ]
}